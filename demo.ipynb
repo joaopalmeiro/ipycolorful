{
 "cells": [
  {
   "cell_type": "code",
   "execution_count": null,
   "id": "311fc541-c0d0-494c-bc4f-2e1111b768f3",
   "metadata": {},
   "outputs": [],
   "source": [
    "from ipycolorful import ColorfulWidget"
   ]
  },
  {
   "cell_type": "code",
   "execution_count": null,
   "id": "2c646611-418b-4f7f-ba65-7c667c579183",
   "metadata": {},
   "outputs": [],
   "source": [
    "w = ColorfulWidget()\n",
    "w"
   ]
  },
  {
   "cell_type": "code",
   "execution_count": null,
   "id": "d535b6a4-4a76-4090-a113-eec1556b9eb1",
   "metadata": {},
   "outputs": [],
   "source": [
    "w.value"
   ]
  },
  {
   "cell_type": "code",
   "execution_count": null,
   "id": "beebb386-db95-4e28-b36a-8d3472532151",
   "metadata": {},
   "outputs": [],
   "source": [
    "# dir(w)"
   ]
  },
  {
   "cell_type": "markdown",
   "id": "de07d167-a49d-45db-95cd-611547eee830",
   "metadata": {},
   "source": [
    "---"
   ]
  }
 ],
 "metadata": {
  "kernelspec": {
   "display_name": "Python 3 (ipykernel)",
   "language": "python",
   "name": "python3"
  },
  "language_info": {
   "codemirror_mode": {
    "name": "ipython",
    "version": 3
   },
   "file_extension": ".py",
   "mimetype": "text/x-python",
   "name": "python",
   "nbconvert_exporter": "python",
   "pygments_lexer": "ipython3",
   "version": "3.7.12"
  }
 },
 "nbformat": 4,
 "nbformat_minor": 5
}
